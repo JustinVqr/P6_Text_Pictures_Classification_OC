{
 "cells": [
  {
   "cell_type": "markdown",
   "id": "4db55368-5e8c-44ae-89c4-9352ddbc9789",
   "metadata": {
    "jp-MarkdownHeadingCollapsed": true
   },
   "source": [
    "# Projet n°6 : Classifier automatiquement des biens de consommation - notebook n°3"
   ]
  },
  {
   "cell_type": "markdown",
   "id": "5f7b5e7f-2941-43a4-845c-91986bee9a01",
   "metadata": {},
   "source": [
    "**Consigne pour ce notebook :**\n",
    "\n",
    "Pour cela, pourrais-tu tester la collecte de produits à base de “champagne” via l’API disponible ici ? \n",
    "\n",
    "Lien vers le site en question : https://developer.edamam.com/food-database-api \n",
    "\n",
    "Pourrais-tu ensuite nous proposer un script ou notebook Python permettant une extraction des 10 premiers produits dans un fichier “.csv”, contenant pour chaque produit les données suivantes : foodId, label, category, foodContentsLabel, image"
   ]
  },
  {
   "cell_type": "markdown",
   "id": "5e82acff-67a0-42ef-8102-57dc0f16573b",
   "metadata": {},
   "source": [
    "**Stratégie de la collecte de données via l'API :**"
   ]
  },
  {
   "cell_type": "markdown",
   "id": "74949fcd-376a-4f7e-898b-ea9bb7522333",
   "metadata": {},
   "source": [
    "1. **Récupération des données** : Utiliser l'API Edamam Food Database pour obtenir des informations alimentaires en fonction d'une requête spécifique dans notre situation les données liées au champagne.\n",
    "2. **Extraction des informations pertinentes** : Filtrer et structurer les données brutes obtenues de l'API pour extraire uniquement les informations pertinentes.\n",
    "3. **Sauvegarde des données dans un fichier CSV** : Stocker les informations extraites dans un fichier CSV \n",
    "4. **Configuration et exécution** : Définir les paramètres nécessaires (app_id, app_key, query)\n",
    "\n",
    "Il y a également en parallèle la création d'un compte dédié sur le site Edamam, avec la création de l'API souhaitée sur le recueil \"Food Database\" qui nous permet de récupérer les informations sur l'APP_id & l'APP_key.\n"
   ]
  },
  {
   "cell_type": "markdown",
   "id": "ad81f854-5551-41ca-aa8d-a8bf31dcd3ad",
   "metadata": {},
   "source": [
    "**Respect du RGPD :**"
   ]
  },
  {
   "cell_type": "markdown",
   "id": "fb211ab5-fc99-4834-9215-c52f5df0f6e3",
   "metadata": {},
   "source": [
    "Pour rappel : les 5 principes fondamentaux du RGPD. \n",
    "- Transparence\n",
    "- Limitation des finalités\n",
    "- Minimisation des données\n",
    "- Exactitude\n",
    "- Limitation de conservation"
   ]
  },
  {
   "cell_type": "markdown",
   "id": "24c80638-f17a-445e-a950-97fdebbcfec3",
   "metadata": {},
   "source": [
    "Nos données proviennent d'un site dédié aux partages des données via API, où nous avons créé un compte sur celui-ci pour pouvoir disposer des données, sans par exemple faire du 'scrapping' avec BeautifulSoup, qui dans cette situation se passe d'autorisation ou autre pour collecter les données.\n",
    "De plus, nos données ne sont pas sensibles et ne concernent pas direcement des individus, l'utilisation de ces données ne posent pas directement de problème tant que les sources par la suite lorsque nous les utilisons à notre compte."
   ]
  },
  {
   "cell_type": "code",
   "execution_count": 19,
   "id": "d5c1f5e9-4533-447b-a5f9-5e88f85de5b9",
   "metadata": {},
   "outputs": [],
   "source": [
    "# Importer les librairies nécessaires pour ce script\n",
    "import requests\n",
    "import csv\n",
    "import pandas as pd"
   ]
  },
  {
   "cell_type": "markdown",
   "id": "adc60d2e-d482-4174-8d6c-647ac22b0130",
   "metadata": {
    "jp-MarkdownHeadingCollapsed": true
   },
   "source": [
    "# API vers le site : Edamam"
   ]
  },
  {
   "cell_type": "code",
   "execution_count": 20,
   "id": "187910b4-3004-46aa-8b80-701d7a75961f",
   "metadata": {},
   "outputs": [
    {
     "name": "stdout",
     "output_type": "stream",
     "text": [
      "Données sauvegardées dans champagne_products.csv\n"
     ]
    }
   ],
   "source": [
    "def get_food_data(query: str, app_id: str, app_key: str) -> dict:\n",
    "    \"\"\"\n",
    "    Fonction pour obtenir les données alimentaires depuis l'API Edamam.\n",
    "    \n",
    "    Arguments:\n",
    "    query -- La chaîne de recherche pour l'ingrédient (ici dans notre situation 'champagne').\n",
    "    app_id -- L'ID de l'application Edamam.\n",
    "    app_key -- La clé de l'application Edamam.\n",
    "    \n",
    "    Retourne:\n",
    "    Un dictionnaire contenant les données de réponse de l'API.\n",
    "    \"\"\"\n",
    "    url = \"https://api.edamam.com/api/food-database/v2/parser\"\n",
    "    params = {\n",
    "        'ingr': query,\n",
    "        'app_id': app_id,\n",
    "        'app_key': app_key\n",
    "    }\n",
    "    response = requests.get(url, params=params)\n",
    "    if response.status_code == 200:\n",
    "        return response.json()\n",
    "    else:\n",
    "        print(f\"Erreur: {response.status_code}\")\n",
    "        return None\n",
    "\n",
    "def extract_food_info(raw_data: dict, limit: int = 10) -> list:\n",
    "    \"\"\"\n",
    "    Fonction pour extraire les informations alimentaires pertinentes depuis les données brutes.\n",
    "    \n",
    "    Arguments:\n",
    "    raw_data -- Le dictionnaire de données brutes retourné par l'API.\n",
    "    limit -- Le nombre maximal de produits à extraire (par défaut 10).\n",
    "    \n",
    "    Retourne:\n",
    "    Une liste de dictionnaires contenant les informations des produits.\n",
    "    \"\"\"\n",
    "    foods = []\n",
    "    \n",
    "    # Extraction des aliments dans la section 'parsed'\n",
    "    for item in raw_data.get('parsed', []):\n",
    "        if len(foods) >= limit:\n",
    "            break\n",
    "        food = item['food']\n",
    "        food_data = {\n",
    "            'foodId': food.get('foodId', ''),\n",
    "            'label': food.get('label', ''),\n",
    "            'category': food.get('category', ''),\n",
    "            'foodContentsLabel': food.get('foodContentsLabel', ''),\n",
    "            'image': food.get('image', '')\n",
    "        }\n",
    "        foods.append(food_data)\n",
    "    \n",
    "    # Extraction des aliments dans la section 'hints'\n",
    "    for item in raw_data.get('hints', []):\n",
    "        if len(foods) >= limit:\n",
    "            break\n",
    "        food = item['food']\n",
    "        food_data = {\n",
    "            'foodId': food.get('foodId', ''),\n",
    "            'label': food.get('label', ''),\n",
    "            'category': food.get('category', ''),\n",
    "            'foodContentsLabel': food.get('foodContentsLabel', ''),\n",
    "            'image': food.get('image', '')\n",
    "        }\n",
    "        foods.append(food_data)\n",
    "    \n",
    "    return foods\n",
    "\n",
    "def save_to_csv(data: list, filename: str = 'champagne_products.csv') -> None:\n",
    "    \"\"\"\n",
    "    Fonction pour sauvegarder les données alimentaires dans un fichier CSV.\n",
    "    \n",
    "    Arguments:\n",
    "    data -- Une liste de dictionnaires contenant les informations des produits.\n",
    "    filename -- Le nom du fichier CSV à créer (par défaut 'champagne_products.csv').\n",
    "    \"\"\"\n",
    "    if not data:\n",
    "        print(\"Aucune donnée à sauvegarder.\")\n",
    "        return\n",
    "    \n",
    "    keys = data[0].keys()\n",
    "    with open(filename, 'w', newline='', encoding='utf-8') as output_file:\n",
    "        dict_writer = csv.DictWriter(output_file, fieldnames=keys)\n",
    "        dict_writer.writeheader()\n",
    "        dict_writer.writerows(data)\n",
    "    print(f\"Données sauvegardées dans {filename}\")\n",
    "\n",
    "# Configuration\n",
    "app_id = 'd553ce75'\n",
    "app_key = 'f4aa0a940217fc66c30ed770f5b6e85f'\n",
    "query = 'champagne'\n",
    "\n",
    "# Collecte des données\n",
    "raw_data = get_food_data(query, app_id, app_key)\n",
    "if raw_data:\n",
    "    foods = extract_food_info(raw_data, limit=10)\n",
    "    filename = 'champagne_products.csv'\n",
    "    save_to_csv(foods, filename)\n",
    "else:\n",
    "    print(\"Échec de la récupération des données\")\n"
   ]
  },
  {
   "cell_type": "markdown",
   "id": "238f1bba-5ff8-447e-880c-6bb740d443fe",
   "metadata": {
    "jp-MarkdownHeadingCollapsed": true
   },
   "source": [
    "# Afficher le résultat du fichier CSV"
   ]
  },
  {
   "cell_type": "code",
   "execution_count": 18,
   "id": "0c7333bd-3a03-4de2-8d65-12b6897ed928",
   "metadata": {},
   "outputs": [
    {
     "data": {
      "text/html": [
       "<div>\n",
       "<style scoped>\n",
       "    .dataframe tbody tr th:only-of-type {\n",
       "        vertical-align: middle;\n",
       "    }\n",
       "\n",
       "    .dataframe tbody tr th {\n",
       "        vertical-align: top;\n",
       "    }\n",
       "\n",
       "    .dataframe thead th {\n",
       "        text-align: right;\n",
       "    }\n",
       "</style>\n",
       "<table border=\"1\" class=\"dataframe\">\n",
       "  <thead>\n",
       "    <tr style=\"text-align: right;\">\n",
       "      <th></th>\n",
       "      <th>foodId</th>\n",
       "      <th>label</th>\n",
       "      <th>category</th>\n",
       "      <th>foodContentsLabel</th>\n",
       "      <th>image</th>\n",
       "    </tr>\n",
       "  </thead>\n",
       "  <tbody>\n",
       "    <tr>\n",
       "      <th>0</th>\n",
       "      <td>food_a656mk2a5dmqb2adiamu6beihduu</td>\n",
       "      <td>Champagne</td>\n",
       "      <td>Generic foods</td>\n",
       "      <td>NaN</td>\n",
       "      <td>https://www.edamam.com/food-img/a71/a718cf3c52...</td>\n",
       "    </tr>\n",
       "    <tr>\n",
       "      <th>1</th>\n",
       "      <td>food_a656mk2a5dmqb2adiamu6beihduu</td>\n",
       "      <td>Champagne</td>\n",
       "      <td>Generic foods</td>\n",
       "      <td>NaN</td>\n",
       "      <td>https://www.edamam.com/food-img/a71/a718cf3c52...</td>\n",
       "    </tr>\n",
       "    <tr>\n",
       "      <th>2</th>\n",
       "      <td>food_b753ithamdb8psbt0w2k9aquo06c</td>\n",
       "      <td>Champagne Vinaigrette, Champagne</td>\n",
       "      <td>Packaged foods</td>\n",
       "      <td>OLIVE OIL; BALSAMIC VINEGAR; CHAMPAGNE VINEGAR...</td>\n",
       "      <td>NaN</td>\n",
       "    </tr>\n",
       "    <tr>\n",
       "      <th>3</th>\n",
       "      <td>food_b3dyababjo54xobm6r8jzbghjgqe</td>\n",
       "      <td>Champagne Vinaigrette, Champagne</td>\n",
       "      <td>Packaged foods</td>\n",
       "      <td>INGREDIENTS: WATER; CANOLA OIL; CHAMPAGNE VINE...</td>\n",
       "      <td>https://www.edamam.com/food-img/d88/d88b64d973...</td>\n",
       "    </tr>\n",
       "    <tr>\n",
       "      <th>4</th>\n",
       "      <td>food_a9e0ghsamvoc45bwa2ybsa3gken9</td>\n",
       "      <td>Champagne Vinaigrette, Champagne</td>\n",
       "      <td>Packaged foods</td>\n",
       "      <td>CANOLA AND SOYBEAN OIL; WHITE WINE (CONTAINS S...</td>\n",
       "      <td>NaN</td>\n",
       "    </tr>\n",
       "    <tr>\n",
       "      <th>5</th>\n",
       "      <td>food_an4jjueaucpus2a3u1ni8auhe7q9</td>\n",
       "      <td>Champagne Vinaigrette, Champagne</td>\n",
       "      <td>Packaged foods</td>\n",
       "      <td>WATER; CANOLA AND SOYBEAN OIL; WHITE WINE (CON...</td>\n",
       "      <td>NaN</td>\n",
       "    </tr>\n",
       "    <tr>\n",
       "      <th>6</th>\n",
       "      <td>food_bmu5dmkazwuvpaa5prh1daa8jxs0</td>\n",
       "      <td>Champagne Dressing, Champagne</td>\n",
       "      <td>Packaged foods</td>\n",
       "      <td>SOYBEAN OIL; WHITE WINE (PRESERVED WITH SULFIT...</td>\n",
       "      <td>https://www.edamam.com/food-img/ab2/ab2459fc2a...</td>\n",
       "    </tr>\n",
       "    <tr>\n",
       "      <th>7</th>\n",
       "      <td>food_alpl44taoyv11ra0lic1qa8xculi</td>\n",
       "      <td>Champagne Buttercream</td>\n",
       "      <td>Generic meals</td>\n",
       "      <td>sugar; butter; shortening; vanilla; champagne;...</td>\n",
       "      <td>NaN</td>\n",
       "    </tr>\n",
       "    <tr>\n",
       "      <th>8</th>\n",
       "      <td>food_am5egz6aq3fpjlaf8xpkdbc2asis</td>\n",
       "      <td>Champagne Truffles</td>\n",
       "      <td>Generic meals</td>\n",
       "      <td>butter; cocoa; sweetened condensed milk; vanil...</td>\n",
       "      <td>NaN</td>\n",
       "    </tr>\n",
       "    <tr>\n",
       "      <th>9</th>\n",
       "      <td>food_bcz8rhiajk1fuva0vkfmeakbouc0</td>\n",
       "      <td>Champagne Vinaigrette</td>\n",
       "      <td>Generic meals</td>\n",
       "      <td>champagne vinegar; olive oil; Dijon mustard; s...</td>\n",
       "      <td>NaN</td>\n",
       "    </tr>\n",
       "  </tbody>\n",
       "</table>\n",
       "</div>"
      ],
      "text/plain": [
       "                              foodId                             label  \\\n",
       "0  food_a656mk2a5dmqb2adiamu6beihduu                         Champagne   \n",
       "1  food_a656mk2a5dmqb2adiamu6beihduu                         Champagne   \n",
       "2  food_b753ithamdb8psbt0w2k9aquo06c  Champagne Vinaigrette, Champagne   \n",
       "3  food_b3dyababjo54xobm6r8jzbghjgqe  Champagne Vinaigrette, Champagne   \n",
       "4  food_a9e0ghsamvoc45bwa2ybsa3gken9  Champagne Vinaigrette, Champagne   \n",
       "5  food_an4jjueaucpus2a3u1ni8auhe7q9  Champagne Vinaigrette, Champagne   \n",
       "6  food_bmu5dmkazwuvpaa5prh1daa8jxs0     Champagne Dressing, Champagne   \n",
       "7  food_alpl44taoyv11ra0lic1qa8xculi             Champagne Buttercream   \n",
       "8  food_am5egz6aq3fpjlaf8xpkdbc2asis                Champagne Truffles   \n",
       "9  food_bcz8rhiajk1fuva0vkfmeakbouc0             Champagne Vinaigrette   \n",
       "\n",
       "         category                                  foodContentsLabel  \\\n",
       "0   Generic foods                                                NaN   \n",
       "1   Generic foods                                                NaN   \n",
       "2  Packaged foods  OLIVE OIL; BALSAMIC VINEGAR; CHAMPAGNE VINEGAR...   \n",
       "3  Packaged foods  INGREDIENTS: WATER; CANOLA OIL; CHAMPAGNE VINE...   \n",
       "4  Packaged foods  CANOLA AND SOYBEAN OIL; WHITE WINE (CONTAINS S...   \n",
       "5  Packaged foods  WATER; CANOLA AND SOYBEAN OIL; WHITE WINE (CON...   \n",
       "6  Packaged foods  SOYBEAN OIL; WHITE WINE (PRESERVED WITH SULFIT...   \n",
       "7   Generic meals  sugar; butter; shortening; vanilla; champagne;...   \n",
       "8   Generic meals  butter; cocoa; sweetened condensed milk; vanil...   \n",
       "9   Generic meals  champagne vinegar; olive oil; Dijon mustard; s...   \n",
       "\n",
       "                                               image  \n",
       "0  https://www.edamam.com/food-img/a71/a718cf3c52...  \n",
       "1  https://www.edamam.com/food-img/a71/a718cf3c52...  \n",
       "2                                                NaN  \n",
       "3  https://www.edamam.com/food-img/d88/d88b64d973...  \n",
       "4                                                NaN  \n",
       "5                                                NaN  \n",
       "6  https://www.edamam.com/food-img/ab2/ab2459fc2a...  \n",
       "7                                                NaN  \n",
       "8                                                NaN  \n",
       "9                                                NaN  "
      ]
     },
     "execution_count": 18,
     "metadata": {},
     "output_type": "execute_result"
    }
   ],
   "source": [
    "# Afficher les résultats stockés dans le fichier csv\n",
    "df = pd.read_csv('champagne_products.csv')\n",
    "df"
   ]
  },
  {
   "cell_type": "code",
   "execution_count": null,
   "id": "499991e9-7159-4f1f-aca1-7a8a27eedf67",
   "metadata": {},
   "outputs": [],
   "source": []
  }
 ],
 "metadata": {
  "kernelspec": {
   "display_name": "Python 3 (ipykernel)",
   "language": "python",
   "name": "python3"
  },
  "language_info": {
   "codemirror_mode": {
    "name": "ipython",
    "version": 3
   },
   "file_extension": ".py",
   "mimetype": "text/x-python",
   "name": "python",
   "nbconvert_exporter": "python",
   "pygments_lexer": "ipython3",
   "version": "3.11.7"
  }
 },
 "nbformat": 4,
 "nbformat_minor": 5
}
